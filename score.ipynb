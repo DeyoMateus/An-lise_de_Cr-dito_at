{
 "cells": [
  {
   "cell_type": "code",
   "execution_count": 91,
   "metadata": {},
   "outputs": [],
   "source": [
    "# Importação de recursos.\n",
    "import pandas as pd\n",
    "from sklearn.preprocessing import LabelEncoder\n",
    "from sklearn.ensemble import RandomForestClassifier\n",
    "from sklearn.neighbors import KNeighborsClassifier\n",
    "from sklearn.model_selection import train_test_split\n",
    "from sklearn.metrics import accuracy_score"
   ]
  },
  {
   "cell_type": "code",
   "execution_count": 92,
   "metadata": {},
   "outputs": [
    {
     "name": "stdout",
     "output_type": "stream",
     "text": [
      "<class 'pandas.core.frame.DataFrame'>\n",
      "RangeIndex: 499 entries, 0 to 498\n",
      "Data columns (total 25 columns):\n",
      " #   Column                    Non-Null Count  Dtype  \n",
      "---  ------                    --------------  -----  \n",
      " 0   id_cliente                499 non-null    int64  \n",
      " 1   mes                       499 non-null    int64  \n",
      " 2   idade                     499 non-null    float64\n",
      " 3   profissao                 499 non-null    int32  \n",
      " 4   salario_anual             499 non-null    float64\n",
      " 5   num_contas                499 non-null    float64\n",
      " 6   num_cartoes               499 non-null    float64\n",
      " 7   juros_emprestimo          499 non-null    float64\n",
      " 8   num_emprestimos           499 non-null    float64\n",
      " 9   dias_atraso               499 non-null    float64\n",
      " 10  num_pagamentos_atrasados  499 non-null    float64\n",
      " 11  num_verificacoes_credito  499 non-null    float64\n",
      " 12  mix_credito               499 non-null    int32  \n",
      " 13  divida_total              499 non-null    float64\n",
      " 14  taxa_uso_credito          499 non-null    float64\n",
      " 15  idade_historico_credito   499 non-null    float64\n",
      " 16  investimento_mensal       499 non-null    float64\n",
      " 17  comportamento_pagamento   499 non-null    int32  \n",
      " 18  saldo_final_mes           499 non-null    float64\n",
      " 19  score_credito             499 non-null    object \n",
      " 20  emprestimo_carro          499 non-null    int64  \n",
      " 21  emprestimo_casa           499 non-null    int64  \n",
      " 22  emprestimo_pessoal        499 non-null    int64  \n",
      " 23  emprestimo_credito        499 non-null    int64  \n",
      " 24  emprestimo_estudantil     499 non-null    int64  \n",
      "dtypes: float64(14), int32(3), int64(7), object(1)\n",
      "memory usage: 91.7+ KB\n",
      "None\n"
     ]
    }
   ],
   "source": [
    "# Tratamento da tabela\n",
    "tabela = pd.read_csv(\"clientes.csv\")\n",
    "codificador = LabelEncoder()\n",
    "tabela[\"profissao\"] = codificador.fit_transform (tabela[\"profissao\"])\n",
    "tabela[\"mix_credito\"] = codificador.fit_transform (tabela[\"mix_credito\"])\n",
    "tabela[\"comportamento_pagamento\"] = codificador.fit_transform(tabela[\"comportamento_pagamento\"])\n",
    "print(tabela.info())"
   ]
  },
  {
   "cell_type": "code",
   "execution_count": 93,
   "metadata": {},
   "outputs": [],
   "source": [
    "# Definindo qual coluna será de teste e treino\n",
    "y = tabela[\"score_credito\"]\n",
    "x = tabela.drop([\"score_credito\", \"id_cliente\"], axis = 1)\n",
    "x_treino, x_teste, y_treino, y_teste = train_test_split (x, y, test_size = 0.4)"
   ]
  },
  {
   "cell_type": "code",
   "execution_count": 94,
   "metadata": {},
   "outputs": [
    {
     "data": {
      "text/plain": [
       "KNeighborsClassifier()"
      ]
     },
     "execution_count": 94,
     "metadata": {},
     "output_type": "execute_result"
    }
   ],
   "source": [
    "# Treino de IA\n",
    "modelo_arvoredecisao = RandomForestClassifier()\n",
    "modelo_knn = KNeighborsClassifier()\n",
    "modelo_arvoredecisao.fit(x_treino, y_treino)\n",
    "modelo_knn.fit(x_treino, y_treino)"
   ]
  },
  {
   "cell_type": "code",
   "execution_count": 95,
   "metadata": {},
   "outputs": [
    {
     "name": "stdout",
     "output_type": "stream",
     "text": [
      "0.795\n",
      "0.715\n"
     ]
    },
    {
     "name": "stderr",
     "output_type": "stream",
     "text": [
      "c:\\Users\\deyo\\anaconda3\\lib\\site-packages\\sklearn\\base.py:450: UserWarning: X does not have valid feature names, but KNeighborsClassifier was fitted with feature names\n",
      "  warnings.warn(\n",
      "c:\\Users\\deyo\\anaconda3\\lib\\site-packages\\sklearn\\neighbors\\_classification.py:228: FutureWarning: Unlike other reduction functions (e.g. `skew`, `kurtosis`), the default behavior of `mode` typically preserves the axis it acts along. In SciPy 1.11.0, this behavior will change: the default value of `keepdims` will become False, the `axis` over which the statistic is taken will be eliminated, and the value None will no longer be accepted. Set `keepdims` to True or False to avoid this warning.\n",
      "  mode, _ = stats.mode(_y[neigh_ind, k], axis=1)\n"
     ]
    }
   ],
   "source": [
    "# Teste de desempenho\n",
    "previsao_arvoredecisao = modelo_arvoredecisao.predict(x_teste)\n",
    "previsao_knn = modelo_knn.predict(x_teste.to_numpy())\n",
    "print(accuracy_score(y_teste, previsao_arvoredecisao))\n",
    "print(accuracy_score(y_teste, previsao_knn))"
   ]
  },
  {
   "cell_type": "code",
   "execution_count": null,
   "metadata": {},
   "outputs": [],
   "source": [
    "# Tratamento da segunda tabela de teste.\n",
    "nvcl = pd.read_csv(\"novos_clientes.csv\")\n",
    "nvcl[\"profissao\"] = codificador.fit_transform(nvcl[\"profissao\"])\n",
    "nvcl[\"mix_credito\"] = codificador.fit_transform(nvcl[\"mix_credito\"])\n",
    "nvcl[\"comportamento_pagamento\"] = codificador.fit_transform(nvcl[\"comportamento_pagamento\"])\n",
    "print(nvcl.info())"
   ]
  },
  {
   "cell_type": "code",
   "execution_count": 98,
   "metadata": {},
   "outputs": [
    {
     "data": {
      "text/plain": [
       "array(['Poor', 'Standard', 'Standard'], dtype=object)"
      ]
     },
     "metadata": {},
     "output_type": "display_data"
    }
   ],
   "source": [
    "# Escolha do melhor modelo: arvoredecisao 81% de acertividade\n",
    "previsao = modelo_arvoredecisao.predict(nvcl)\n",
    "print(previsao)"
   ]
  }
 ],
 "metadata": {
  "kernelspec": {
   "display_name": "base",
   "language": "python",
   "name": "python3"
  },
  "language_info": {
   "codemirror_mode": {
    "name": "ipython",
    "version": 3
   },
   "file_extension": ".py",
   "mimetype": "text/x-python",
   "name": "python",
   "nbconvert_exporter": "python",
   "pygments_lexer": "ipython3",
   "version": "3.9.13"
  },
  "orig_nbformat": 4
 },
 "nbformat": 4,
 "nbformat_minor": 2
}
